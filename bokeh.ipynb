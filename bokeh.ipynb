{
 "cells": [
  {
   "cell_type": "code",
   "execution_count": null,
   "id": "ec35b34a-ce96-4919-bfbb-98092386add7",
   "metadata": {},
   "outputs": [],
   "source": [
    "Q1. How can you create a Bokeh plot using Python code?\n",
    "Ans:\n",
    "    from bokeh.plotting import figure, output_file, show\n",
    "\n",
    "# Prepare some data\n",
    "x = [1, 2, 3, 4, 5]\n",
    "y = [6, 7, 2, 4, 5]\n",
    "\n",
    "# Output to a static HTML file\n",
    "output_file(\"bokeh_plot.html\")\n",
    "\n",
    "# Create a figure\n",
    "p = figure(title=\"Simple Bokeh Plot\", x_axis_label='X-axis', y_axis_label='Y-axis')\n",
    "\n",
    "# Add a line renderer\n",
    "p.line(x, y, legend_label=\"Line\", line_width=2)\n",
    "\n",
    "# Show the plot\n",
    "show(p)\n"
   ]
  },
  {
   "cell_type": "code",
   "execution_count": null,
   "id": "f069d558-597a-4ba3-a9f5-32daad04030a",
   "metadata": {},
   "outputs": [],
   "source": [
    "Q2. What are glyphs in Bokeh, and how can you add them to a Bokeh plot? Explain with an example.\n",
    "Ans:\n",
    "    Glyphs are visual shapes or markers used to represent data points in a Bokeh plot. Common glyphs include lines, circles, squares, etc. You can add them to a plot using Bokeh's plotting interface.\n",
    "\n",
    "Example:\n",
    "    from bokeh.plotting import figure, output_file, show\n",
    "\n",
    "# Sample data\n",
    "x = [1, 2, 3, 4, 5]\n",
    "y = [6, 7, 2, 4, 5]\n",
    "\n",
    "# Output to a static HTML file\n",
    "output_file(\"bokeh_glyphs.html\")\n",
    "\n",
    "# Create a figure\n",
    "p = figure(title=\"Bokeh Glyphs Example\", x_axis_label='X-axis', y_axis_label='Y-axis')\n",
    "\n",
    "# Add circle glyphs\n",
    "p.circle(x, y, size=10, color=\"navy\", alpha=0.5)\n",
    "\n",
    "# Show the plot\n",
    "show(p)\n",
    "\n",
    "    "
   ]
  },
  {
   "cell_type": "code",
   "execution_count": null,
   "id": "a80e2a47-35c5-409d-92e5-c0bf94efa8f1",
   "metadata": {},
   "outputs": [],
   "source": [
    "Q3. How can you customize the appearance of a Bokeh plot, including the axes, title, and legend?\n",
    "Ans:\n",
    "    # Assuming you already have a plot 'p'\n",
    "\n",
    "# Customize axes\n",
    "p.xaxis.axis_label = \"X-axis\"\n",
    "p.yaxis.axis_label = \"Y-axis\"\n",
    "\n",
    "# Customize title\n",
    "p.title.text = \"Customized Bokeh Plot Title\"\n",
    "p.title.text_font_style = \"italic\"\n",
    "\n",
    "# Customize legend\n",
    "p.legend.title = \"Legend\"\n",
    "p.legend.label_text_font = \"times\"\n",
    "p.legend.label_text_color = \"green\"\n",
    "\n",
    "# Show the plot\n",
    "show(p)\n",
    "\n",
    "    "
   ]
  },
  {
   "cell_type": "code",
   "execution_count": null,
   "id": "9dac4bff-d2f7-44c5-a5bb-82e480cdba1c",
   "metadata": {},
   "outputs": [],
   "source": [
    "Q4. What is a Bokeh server, and how can you use it to create interactive plots that can be updated in\n",
    "real time?\n",
    "Ans:\n",
    "    A Bokeh server is a Python server that enables the creation of interactive, data-driven web applications with Bokeh plots. It allows for real-time updates and interactions. To use a Bokeh server:\n",
    "        from bokeh.io import curdoc\n",
    "from bokeh.models import ColumnDataSource\n",
    "from bokeh.plotting import figure\n",
    "\n",
    "# Set up data\n",
    "source = ColumnDataSource(data=dict(x=[1, 2, 3, 4, 5], y=[6, 7, 2, 4, 5]))\n",
    "\n",
    "# Create a plot\n",
    "plot = figure()\n",
    "plot.line('x', 'y', source=source)\n",
    "\n",
    "# Define a callback function\n",
    "def update_data():\n",
    "    # Update the data in your callback here\n",
    "    # For example, change the 'y' values\n",
    "    new_data = dict(x=[1, 2, 3, 4, 5], y=[10, 5, 8, 2, 7])\n",
    "    source.data = new_data\n",
    "\n",
    "# Periodically update the data using the callback\n",
    "curdoc().add_periodic_callback(update_data, 1000)  # Update every 1000ms\n",
    "\n",
    "# Add the plot to the current document\n",
    "curdoc().add_root(plot)\n"
   ]
  },
  {
   "cell_type": "code",
   "execution_count": null,
   "id": "02281768-a1cb-458f-85a4-3ba0016eaf5f",
   "metadata": {},
   "outputs": [],
   "source": [
    "Q5. How can you embed a Bokeh plot into a web page or dashboard using Flask or Django?\n",
    "Ans:\n",
    "    "
   ]
  }
 ],
 "metadata": {
  "kernelspec": {
   "display_name": "Python 3 (ipykernel)",
   "language": "python",
   "name": "python3"
  },
  "language_info": {
   "codemirror_mode": {
    "name": "ipython",
    "version": 3
   },
   "file_extension": ".py",
   "mimetype": "text/x-python",
   "name": "python",
   "nbconvert_exporter": "python",
   "pygments_lexer": "ipython3",
   "version": "3.10.8"
  }
 },
 "nbformat": 4,
 "nbformat_minor": 5
}
